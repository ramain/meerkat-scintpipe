{
 "cells": [
  {
   "cell_type": "code",
   "execution_count": 1,
   "metadata": {},
   "outputs": [],
   "source": [
    "import os,sys,glob\n",
    "import numpy as np\n",
    "import pandas as pd"
   ]
  },
  {
   "cell_type": "code",
   "execution_count": 2,
   "metadata": {},
   "outputs": [],
   "source": [
    "scint_path = \"/fred/oz002/aparthas/TPA/Scintillation/\"\n",
    "pngs = os.path.join(scint_path,\"png_summary\")\n",
    "images = sorted(glob.glob(os.path.join(pngs,\"*png\")))\n",
    "summary_file = os.path.join(scint_path,\"usersummary.txt\")"
   ]
  },
  {
   "cell_type": "code",
   "execution_count": 3,
   "metadata": {},
   "outputs": [
    {
     "name": "stdout",
     "output_type": "stream",
     "text": [
      "      psrname comments\n",
      "0  J0211-8159     Blah\n"
     ]
    }
   ],
   "source": [
    "user_summary = pd.read_csv(summary_file,names=[\"psrname\",\"comments\"],delimiter=\":\",dtype=str)\n",
    "print user_summary"
   ]
  },
  {
   "cell_type": "code",
   "execution_count": 17,
   "metadata": {},
   "outputs": [],
   "source": [
    "total = len(images)\n",
    "\n",
    "with open(os.path.join(scint_path,\"scint.html\"),\"w\") as f:\n",
    "    \n",
    "    for num,image in enumerate(images):\n",
    "        if num == 0:\n",
    "            f.write(\"\"\" <html>\n",
    "<head>\n",
    "<title>TPA Scintillation</title>\n",
    "<h1> Scintillation properties for the TPA pulsars : {0} pulsars</h1>\n",
    "<p style=\"color:black; style=\"font-size:80px;\"> From left to right: <br/>\n",
    "\n",
    "The first two panels show the Wiener filtered dynamic spectrum, and the corresponding secondary spectrum across the whole band \n",
    "(the filtering includes inpainting the masked channels, and removing the intrinsic variations). <br/>\n",
    "<br/>\n",
    "The third panel, shows the dynamic and secondary spectra restricted to 970–1075 MHz (top) and 1290–1530 MHz (bottom), the two cleanest bands.  <br/>\n",
    "<br/>\n",
    "The fourth panels are 2D ACFs in these bands, fit with a model of the 2D ACF for a Kolmogorov spectrum along with phase gradient (fit shown in contours, and in blue lines), \n",
    "and 1D cuts through the two axes (fit shown in orange).  <br/>\n",
    "<br/>\n",
    "The fifth panel show cuts through the 2D ACF, and their fits, in 8 equally spaced subbands (high to low - top to bottom).  <br/>\n",
    "<br/>\n",
    "The top-right plot in the last panel (when visible), shows the summed power as a function of arc curvature, and the best fit arc curvature. The bottom-right plots show the fit values of \n",
    "t_scint (scintillation timescale) and nu_scint (scintillation bandwidth) across frequency. <br/> </p>\n",
    "\n",
    "<p style=\"color:blue; style=\"font-size:50px;\">Contact: Robert Main (MPIfR) & Aditya Parthasarathy (MPIfR) </p>\n",
    "\n",
    "<p style=\"color:red; style=\"font-size:50px;\"> General comments: Currently selected pulsars with S/N > 3000 with tobs > 10 mins. Not everything is processed yet. \n",
    "Most of these I think, are TPA census observations and L-band (?).>\n",
    "\n",
    "<h4>TPA PIs: Simon Johnston & Aris Karastergiou </h3>\n",
    "<body>\n",
    "<table frame=box border=3  cellpadding=6 >\\n \"\"\".format(total))\n",
    "        psrname = os.path.split(image)[-1].split(\".png\")[0].split(\"_\")[0]\n",
    "        obsname = os.path.split(image)[-1].split(\".png\")[0].split(\"_\")[1]\n",
    "        image_name = os.path.split(image)[-1]\n",
    "\n",
    "        comment = user_summary.loc[user_summary['psrname'] == psrname][\"comments\"].tolist()\n",
    "        if not len(comment) == 0:\n",
    "            comment = comment[0]\n",
    "            f.write('<tr><td align=left><font size=+2>{0} - {1} - Comments: {2}<br></font></td></tr> \\n'.format(psrname,obsname,comment))        \n",
    "        else:\n",
    "            comment = \"No comments\"\n",
    "            f.write('<tr><td align=left><font size=+2>{0} - {1} - Comments: {2}<br></font></td></tr> \\n'.format(psrname,obsname,comment))           \n",
    "              \n",
    "        f.write('<tr><td><img src=\"png_summary/{0}\" width=\"2600\" height=\"1000\" </td></tr> \\n'.format(image_name))            \n",
    "        if num == len(images)-1:\n",
    "            f.write(\"\"\" </table>\n",
    "<br>\n",
    "</body>\n",
    "</head>\n",
    "</html>\"\"\")\n",
    "f.close()\n"
   ]
  },
  {
   "cell_type": "code",
   "execution_count": null,
   "metadata": {},
   "outputs": [],
   "source": []
  },
  {
   "cell_type": "code",
   "execution_count": null,
   "metadata": {},
   "outputs": [],
   "source": []
  }
 ],
 "metadata": {
  "kernelspec": {
   "display_name": "Python 2",
   "language": "python",
   "name": "python2"
  },
  "language_info": {
   "codemirror_mode": {
    "name": "ipython",
    "version": 2
   },
   "file_extension": ".py",
   "mimetype": "text/x-python",
   "name": "python",
   "nbconvert_exporter": "python",
   "pygments_lexer": "ipython2",
   "version": "2.7.14"
  }
 },
 "nbformat": 4,
 "nbformat_minor": 2
}
